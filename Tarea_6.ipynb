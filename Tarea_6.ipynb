{
  "nbformat": 4,
  "nbformat_minor": 0,
  "metadata": {
    "colab": {
      "name": "Tarea 6.ipynb",
      "provenance": [],
      "collapsed_sections": []
    },
    "kernelspec": {
      "name": "python3",
      "display_name": "Python 3"
    },
    "language_info": {
      "name": "python"
    }
  },
  "cells": [
    {
      "cell_type": "markdown",
      "metadata": {
        "id": "FsczcwLOq9Mj"
      },
      "source": [
        "#Problema 2.1"
      ]
    },
    {
      "cell_type": "code",
      "metadata": {
        "colab": {
          "base_uri": "https://localhost:8080/"
        },
        "id": "di_0pA6xrBX1",
        "outputId": "54df21d7-835b-415e-ac52-d90408f94a01"
      },
      "source": [
        "N = int (input(\"Ingresa:Cuantos sonidos emite el grillo por minuto?\"))\n",
        "if N>0:\n",
        "    T= N/4+40\n",
        "    print(\"La temperatura en grados Fahrenheit es:\", T)\n",
        "else:\n",
        "    print(\"debe ingresar un numero positivo\")"
      ],
      "execution_count": null,
      "outputs": [
        {
          "output_type": "stream",
          "name": "stdout",
          "text": [
            "Ingresa:Cuantos sonidos emite el grillo por minuto?60\n",
            "La temperatura en grados Fahrenheit es: 55.0\n"
          ]
        }
      ]
    },
    {
      "cell_type": "markdown",
      "metadata": {
        "id": "y8RFx23YrGKK"
      },
      "source": [
        "#Poblema 2.2"
      ]
    },
    {
      "cell_type": "code",
      "metadata": {
        "id": "buAnnFN3rBN0"
      },
      "source": [
        "P = int (input(\"Ingresa el valor de P: \"))\n",
        "Q = int (input(\"Ingresa el valor de Q: \"))\n",
        "EXP= P**3+Q**4-2*P**2\n",
        "if EXP<680:\n",
        "    print(f\"Los numeros {P} y {Q}, son correctos\")\n",
        "else: print(\"Los numeros no son correctos\")"
      ],
      "execution_count": null,
      "outputs": []
    },
    {
      "cell_type": "markdown",
      "metadata": {
        "id": "CuiM8fETrJTy"
      },
      "source": [
        "#Problema 2.3"
      ]
    },
    {
      "cell_type": "code",
      "metadata": {
        "id": "2DKWVD9-q8T1",
        "colab": {
          "base_uri": "https://localhost:8080/"
        },
        "outputId": "05b7c44f-3288-49d4-b042-22a684e6c235"
      },
      "source": [
        "A = float (input(\"Ingresa el valor de A: \"))\n",
        "B = float (input(\"Ingresa el valor de B: \"))\n",
        "C = float (input(\"Ingresa el valor de C: \"))\n",
        "\n",
        "if A == 0:\n",
        "    print(\"A no debe ser 0\")\n",
        "\n",
        "DIS= B**2-4*A*C\n",
        "if DIS>=0:\n",
        "    x1=((-B)+DIS**.5)/(2*A)\n",
        "    x2=((-B)-DIS**.5)/(2*A)\n",
        "    print(f\"Las raices Reales son: {x1} y {x2}\")\n",
        "    print(DIS)"
      ],
      "execution_count": null,
      "outputs": [
        {
          "name": "stdout",
          "output_type": "stream",
          "text": [
            "Ingresa el valor de A: 5\n",
            "Ingresa el valor de B: 6\n",
            "Ingresa el valor de C: 3\n"
          ]
        }
      ]
    },
    {
      "cell_type": "markdown",
      "metadata": {
        "id": "E0kpuAiEHQVU"
      },
      "source": [
        "#Problema 2.4\n"
      ]
    },
    {
      "cell_type": "code",
      "metadata": {
        "colab": {
          "base_uri": "https://localhost:8080/"
        },
        "id": "t4OwxG0IDxa7",
        "outputId": "cea65c71-71f1-44d7-e141-679c5e76df4c"
      },
      "source": [
        "5\n",
        "CAL1 = float (input(\"Ingresa tu calificacion 1: \"))\n",
        "CAL2 = float (input(\"Ingresa tu calificacion 2: \"))\n",
        "CAL3 = float (input(\"Ingresa tu calificacion 3: \"))\n",
        "CAL4 = float (input(\"Ingresa tu calificacion 4: \"))\n",
        "CAL5 = float (input(\"Ingresa tu calificacion 5: \"))\n",
        "CAL6 = float (input(\"Ingresa tu calificacion 6: \"))\n",
        "\n",
        "PROM=(CAL1+CAL2+CAL3+CAL4+CAL5+CAL6)/6\n",
        "if PROM>=6:\n",
        "    print(f\"Alumno: {MAT} esta aprobado, con promedio de: {PROM}\")\n",
        "else:\n",
        "    print(f\"alumno {MAT} esta reprobado, con promedio de: {PROM}\")"
      ],
      "execution_count": null,
      "outputs": [
        {
          "output_type": "stream",
          "name": "stdout",
          "text": [
            "Ingresa tu Matricula: 3192742\n",
            "Ingresa tu calificacion 1: 10\n",
            "Ingresa tu calificacion 2: 6\n",
            "Ingresa tu calificacion 3: 8\n",
            "Ingresa tu calificacion 4: 6\n",
            "Ingresa tu calificacion 5: 5\n",
            "Ingresa tu calificacion 6: 8\n",
            "Alumno: 3192742 esta aprobado, con promedio de: 7.166666666666667\n"
          ]
        }
      ]
    },
    {
      "cell_type": "markdown",
      "metadata": {
        "id": "n-xObbkPFpZm"
      },
      "source": [
        "#Problema 2.5\n",
        "\n"
      ]
    },
    {
      "cell_type": "code",
      "metadata": {
        "colab": {
          "base_uri": "https://localhost:8080/"
        },
        "id": "tEXhQy25Ftm-",
        "outputId": "bfecc277-7352-4101-f25a-d831a900f96d"
      },
      "source": [
        "NUM = int (input(\"Ingresa un numero entero: \"))\n",
        "\n",
        "if NUM>0:\n",
        "    print(\"positivo\")\n",
        "elif NUM==0:\n",
        "    print(\"NULO\")\n",
        "elif NUM<0:\n",
        "    print(\"Negativo\")"
      ],
      "execution_count": null,
      "outputs": [
        {
          "output_type": "stream",
          "name": "stdout",
          "text": [
            "Ingresa un numero entero: 45454\n",
            "positivo\n"
          ]
        }
      ]
    },
    {
      "cell_type": "markdown",
      "metadata": {
        "id": "0o8F--HKFuIO"
      },
      "source": [
        "#Problema 2.6\n"
      ]
    },
    {
      "cell_type": "code",
      "metadata": {
        "id": "fUltbtfWFtvV"
      },
      "source": [
        "A= int(input(\"dame un numero: \"))\n",
        "\n",
        "if A==0:\n",
        "    print(\"Nulo\")\n",
        "elif -1**A>0:\n",
        "    print(\"par\")\n",
        "else:\n",
        "    print(\"Impar\")"
      ],
      "execution_count": null,
      "outputs": []
    },
    {
      "cell_type": "markdown",
      "metadata": {
        "id": "q1IZwQDcFwTt"
      },
      "source": [
        "#Problema 2.7\n"
      ]
    },
    {
      "cell_type": "code",
      "metadata": {
        "colab": {
          "base_uri": "https://localhost:8080/"
        },
        "id": "dnOGM_l7F1ZH",
        "outputId": "0c0488d7-7af7-4f3e-ce45-0684b0055d4e"
      },
      "source": [
        "A = float (input(\"Ingresa el valor de A: \"))\n",
        "B = float (input(\"Ingresa el valor de B: \"))\n",
        "C = float (input(\"Ingresa el valor de C: \"))\n",
        "\n",
        "if A<B and B<C:\n",
        "    print(\"los numeros estan en orden decreciente\")\n",
        "\n",
        "else:\n",
        "    print(\"Los numeros no esta en orden creciente\")"
      ],
      "execution_count": null,
      "outputs": [
        {
          "output_type": "stream",
          "name": "stdout",
          "text": [
            "Ingresa el valor de A: 4\n",
            "Ingresa el valor de B: 5\n",
            "Ingresa el valor de C: 6\n",
            "los numeros estan en orden decreciente\n"
          ]
        }
      ]
    },
    {
      "cell_type": "markdown",
      "metadata": {
        "id": "Ucw3UhOSFv-2"
      },
      "source": [
        "#Problema 2.8\n"
      ]
    },
    {
      "cell_type": "code",
      "metadata": {
        "colab": {
          "base_uri": "https://localhost:8080/"
        },
        "id": "0eZw5Y2nF2eN",
        "outputId": "f3febde9-ba01-4aa4-a0ca-a35915f42dcd"
      },
      "source": [
        "COMPRA=float(input(\"Cuanto compraste: \"))\n",
        "\n",
        "if COMPRA<500:\n",
        "    print(\"no hay descuento\")\n",
        "elif COMPRA>=500 and COMPRA<1000:\n",
        "    print(\"Usted debe pagar\", COMPRA-COMPRA*.05)\n",
        "elif COMPRA>=1000 and COMPRA<7000:\n",
        "    print(\"Usted debe pagar\", COMPRA-COMPRA*.11)\n",
        "elif COMPRA>=7000 and COMPRA<15000:\n",
        "    print(\"Usted debe pagar\", COMPRA-COMPRA*.18)\n",
        "elif COMPRA>=15000:\n",
        "    print(\"Usted debe pagar:\", COMPRA-COMPRA*.25)\n"
      ],
      "execution_count": null,
      "outputs": [
        {
          "output_type": "stream",
          "name": "stdout",
          "text": [
            "Cuanto compraste: 15000\n",
            "Usted debe pagar: 11250.0\n"
          ]
        }
      ]
    },
    {
      "cell_type": "markdown",
      "metadata": {
        "id": "UWiDPTi3Fv6z"
      },
      "source": [
        "#Problema 2.9\n"
      ]
    },
    {
      "cell_type": "code",
      "metadata": {
        "colab": {
          "base_uri": "https://localhost:8080/"
        },
        "id": "T8wNmndOF3dH",
        "outputId": "7939ffe2-1f6c-495b-bc9c-f4a1702885ac"
      },
      "source": [
        "PREBAS=float(input(\"Cual es el precio basico del producto: \"))\n",
        "\n",
        "if PREBAS>500:\n",
        "    IMP=20*.30+(PREBAS-40)*.50\n",
        "elif PREBAS>40:\n",
        "    IMP=20*.30+(PREBAS-40)*.40\n",
        "else:\n",
        "    if PREBAS>20:\n",
        "        IMP=(PREBAS-20)*.30\n",
        "    else:\n",
        "        IMP==0\n",
        "PRETOT=PREBAS + IMP\n",
        "print(f\"el precio basico es= {PREBAS} y el precio con impuestos es= {PRETOT}\")\n"
      ],
      "execution_count": null,
      "outputs": [
        {
          "output_type": "stream",
          "name": "stdout",
          "text": [
            "Cual es el precio basico del producto: 17.33\n",
            "el precio basico es= 17.33 y el precio con impuestos es= 26.529999999999998\n"
          ]
        }
      ]
    },
    {
      "cell_type": "markdown",
      "metadata": {
        "id": "n3IRRzhXF37G"
      },
      "source": [
        "#Problema 2.10\n"
      ]
    },
    {
      "cell_type": "code",
      "metadata": {
        "id": "ZLW8_-_0zC0b"
      },
      "source": [
        "A=float(input(\"Escribe un número: \"))\n",
        "B=float(input(\"Escribe otro número: \"))\n",
        "C=float(input(\"Escribe otro número: \"))\n",
        "\n",
        "if A>B:\n",
        "    if A>C:\n",
        "        print(f\"{A} es el mayor\")\n",
        "    else:\n",
        "        if A==C:\n",
        "            print(f\"{A} y {C} son los mayores\")\n",
        "        else:\n",
        "            print(f\"{C} es el mayor\")\n",
        "else:\n",
        "    if A==B:\n",
        "        if A>C:\n",
        "            print(f\"{A} y {B} son los mayores\")\n",
        "        else:\n",
        "            if A==C:\n",
        "                print(f\"{A}, {B} y {C} son iguales\")\n",
        "            else:\n",
        "                print(f\"{C} es el mayor\")\n",
        "    else:\n",
        "        if B>C:\n",
        "            print(f\"{B} es el mayor\")\n",
        "        else:\n",
        "            if B==C:\n",
        "                print(f\"{B} y {C} son los mayores\")\n",
        "            else:\n",
        "                print(f\"{C} es el mayor\")\n",
        "print(\"Fin del programa\")"
      ],
      "execution_count": null,
      "outputs": []
    },
    {
      "cell_type": "markdown",
      "metadata": {
        "id": "cqhg438hF5st"
      },
      "source": [
        "#Problema 2.11\n"
      ]
    },
    {
      "cell_type": "code",
      "metadata": {
        "id": "tj_iw2glF8Hv"
      },
      "source": [
        "CLAVE=int(input(\"Escriba la clave de su zona geográfica: \"))\n",
        "NUMIN=int(input(\"Escriba la duración en minutos de la llamada: \"))\n",
        "\n",
        "if CLAVE==12:\n",
        "    COST=NUMIN*2\n",
        "elif CLAVE==15:\n",
        "    COST=NUMIN*2.2\n",
        "elif CLAVE==18:\n",
        "    COST=NUMIN*4.5\n",
        "elif CLAVE==19:\n",
        "    COST=NUMIN*3.5\n",
        "elif CLAVE==23 or 25:\n",
        "    COST=NUMIN*6\n",
        "elif CLAVE==29:\n",
        "    COST=NUMIN*5\n",
        "\n",
        "print(f\"Costo total de la llamada: {COST}\")\n",
        "print(\"Fin del programa\")"
      ],
      "execution_count": null,
      "outputs": []
    },
    {
      "cell_type": "markdown",
      "metadata": {
        "id": "dedguEPTF8bF"
      },
      "source": [
        "#Problema 2.12\n"
      ]
    },
    {
      "cell_type": "code",
      "metadata": {
        "id": "1pSbxAdsF93q",
        "colab": {
          "base_uri": "https://localhost:8080/"
        },
        "outputId": "76e6324c-d39c-4b02-9a92-90d96eaaf5d0"
      },
      "source": [
        "SUE= int(input(\"Introduce tu sueldo: \"))\n",
        "CATE= int(input(\"Introduce tu categoria del 1 - 4: \"))\n",
        "HE= int(input(\"Introduce la cantidad de horas extras que trabajaste: \"))\n",
        "\n",
        "if CATE==1:\n",
        "    PHE=30\n",
        "elif CATE==2:\n",
        "    PHE=38\n",
        "elif CATE==3:\n",
        "    PHE=50\n",
        "elif CATE==4:\n",
        "    PHE=70\n",
        "\n",
        "if HE>30:\n",
        "    NSUE=SUE+30*PHE\n",
        "else:\n",
        "    NSUE= SUE+HE*PHE\n",
        "print(PHE)\n",
        "print(f\"usted cobrara:  ${NSUE}\")"
      ],
      "execution_count": null,
      "outputs": [
        {
          "output_type": "stream",
          "name": "stdout",
          "text": [
            "Introduce tu sueldo: 1350\n",
            "Introduce tu categoria del 1 - 4: 1\n",
            "Introduce la cantidad de horas extras que trabajaste: 25\n",
            "30\n",
            "usted cobrara:  $2100\n"
          ]
        }
      ]
    },
    {
      "cell_type": "markdown",
      "metadata": {
        "id": "8imPc5O4F-O1"
      },
      "source": [
        "#Problema 2.13\n"
      ]
    },
    {
      "cell_type": "code",
      "metadata": {
        "id": "z8nfzHLdGABd"
      },
      "source": [
        "MAT= int(input(\"Introduce tu matricula: \"))\n",
        "CARR= str(input(\"Introduce la carrera a la que te quieres inscribir: \"))\n",
        "SEM= int(input(\"Introduce tu semestre: \"))\n",
        "PROM= float(input(\"Introduce tu promedio: \"))\n",
        "\n",
        "if CARR == \"economia\":\n",
        "    if SEM>= 6 and PROM >= 8.8:\n",
        "        print(f\"{MAT} {CARR} aceptado\")\n",
        "elif CARR == \"computacion\":\n",
        "    if SEM>6 and PROM >8.5:\n",
        "        print(f\"{MAT} {CARR} aceptado\")\n",
        "elif CARR == \"contabilidad\" or CARR == \"administracion\":\n",
        "    if SEM>5 and PROM >8.5:\n",
        "        print(f\"{MAT} {CARR} aceptado\")"
      ],
      "execution_count": null,
      "outputs": []
    },
    {
      "cell_type": "markdown",
      "metadata": {
        "id": "BqVgDti5UPCo"
      },
      "source": [
        "#Problema2.14"
      ]
    },
    {
      "cell_type": "code",
      "metadata": {
        "id": "8vLnEKZbUR-_"
      },
      "source": [
        "#problema 2.14\n",
        "TIPOENF = int(input(\"Introduce el tipo de enfermedad: \"))\n",
        "EDAD = int(input(\"Introduce la edad: \"))\n",
        "DIAS = int(input(\"Introduce el numero de dias: \"))\n",
        "COSTO = 0.0\n",
        "\n",
        "if TIPOENF ==1:\n",
        "    COSTO = DIAS *25.0\n",
        "elif TIPOENF ==2:\n",
        "    COSTO = DIAS *16.0\n",
        "elif TIPOENF ==3:\n",
        "    COSTO = DIAS *20.0\n",
        "elif TIPOENF ==4:\n",
        "    COSTO = DIAS *32.0\n",
        "\n",
        "if EDAD >=14 and EDAD <+ 22:\n",
        "    COSTO=COSTO *1.10\n",
        "print (\"Costo total=  $\",COSTO)\n",
        "    "
      ],
      "execution_count": null,
      "outputs": []
    }
  ]
}